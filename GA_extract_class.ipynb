{
 "cells": [
  {
   "cell_type": "code",
   "execution_count": 1,
   "id": "6d45d4b1",
   "metadata": {},
   "outputs": [
    {
     "ename": "ModuleNotFoundError",
     "evalue": "No module named 'oauth2client'",
     "output_type": "error",
     "traceback": [
      "\u001b[1;31m---------------------------------------------------------------------------\u001b[0m",
      "\u001b[1;31mModuleNotFoundError\u001b[0m                       Traceback (most recent call last)",
      "Cell \u001b[1;32mIn [1], line 1\u001b[0m\n\u001b[1;32m----> 1\u001b[0m \u001b[38;5;28;01mfrom\u001b[39;00m \u001b[38;5;21;01moauth2client\u001b[39;00m\u001b[38;5;21;01m.\u001b[39;00m\u001b[38;5;21;01mservice_account\u001b[39;00m \u001b[38;5;28;01mimport\u001b[39;00m ServiceAccountCredentials\n\u001b[0;32m      2\u001b[0m \u001b[38;5;28;01mfrom\u001b[39;00m \u001b[38;5;21;01mgoogleapiclient\u001b[39;00m\u001b[38;5;21;01m.\u001b[39;00m\u001b[38;5;21;01mdiscovery\u001b[39;00m \u001b[38;5;28;01mimport\u001b[39;00m build\n\u001b[0;32m      3\u001b[0m \u001b[38;5;28;01mimport\u001b[39;00m \u001b[38;5;21;01mpandas\u001b[39;00m \u001b[38;5;28;01mas\u001b[39;00m \u001b[38;5;21;01mpd\u001b[39;00m\n",
      "\u001b[1;31mModuleNotFoundError\u001b[0m: No module named 'oauth2client'"
     ]
    }
   ],
   "source": [
    "from oauth2client.service_account import ServiceAccountCredentials\n",
    "from googleapiclient.discovery import build\n",
    "import pandas as pd\n",
    "KEY_FILE_LOCATION = \"client_secrets.json\"\n",
    "SCOPES = [\"https://www.googleapis.com/auth/analytics.readonly\"]\n",
    "\n",
    "def initialize_analyticsreporting():\n",
    "    credentials = ServiceAccountCredentials.from_json_keyfile_name(KEY_FILE_LOCATION, SCOPES)\n",
    "    analytics = build(\"analyticsreporting\", \"v4\", credentials=credentials)\n",
    "\n",
    "    return analytics\n",
    "\n",
    "\n",
    "Analytics = initialize_analyticsreporting()\n",
    "\n",
    "class Report:\n",
    "    def __init__(self):\n",
    "        self.date_range = [] \n",
    "        self.dimensions = []\n",
    "        self.metrics = []\n",
    "        self.segments = []\n",
    "        self.dimension_filters = []\n",
    "\n",
    "    def debug(self):\n",
    "\n",
    "        # TODO: Create a debug export file / log for each run contains a list of reports...\n",
    "        print(self.date_range,\n",
    "              self.dimensions,\n",
    "              self.metrics,\n",
    "              self.segments,\n",
    "              self.dimension_filters,\n",
    "              self.metric_filters,\n",
    "              )\n",
    " \n",
    "    def request(self,pageToken='None'):\n",
    "        response = Analytics.reports().batchGet(\n",
    "        # TODO: Validate values and prevent false query\n",
    "        body={\n",
    "            \"reportRequests\": [\n",
    "                {\n",
    "                    \"viewId\": '178838015',\n",
    "                    \"dateRanges\":self.date_range,\n",
    "                    \"metrics\": [{'expression': expression} for expression in self.metrics],\n",
    "                    \"dimensions\": [{'name': name} for name in self.dimensions],\n",
    "                     \"pageSize\": 100000,\n",
    "                    \"pageToken\": pageToken\n",
    "            }]\n",
    "        }\n",
    "    ).execute()\n",
    "        return response\n",
    "    \n",
    "    \n",
    "    def next_records(self):\n",
    "       import request\n",
    "       from ga import manipulate\n",
    "       records =[]\n",
    "       response=self.request()\n",
    "       nextPageToken = response.get(\"reports\")[0].get('nextPageToken', None)\n",
    "       df = manipulate(response)\n",
    "       records.append(df)\n",
    "       while nextPageToken != None:\n",
    "          response = request(nextPageToken)\n",
    "          df = manipulate(response)\n",
    "          records.append(df)\n",
    "          nextPageToken = response.get(\"reports\")[0].get('nextPageToken', None)\n",
    "       df = pd.concat(records).reset_index(drop=True)\n",
    "       df.columns = df.columns.str.replace(r'ga:', '')\n",
    "       return df"
   ]
  },
  {
   "cell_type": "code",
   "execution_count": null,
   "id": "bded2bee",
   "metadata": {},
   "outputs": [],
   "source": []
  }
 ],
 "metadata": {
  "kernelspec": {
   "display_name": "Python 3 (ipykernel)",
   "language": "python",
   "name": "python3"
  },
  "language_info": {
   "codemirror_mode": {
    "name": "ipython",
    "version": 3
   },
   "file_extension": ".py",
   "mimetype": "text/x-python",
   "name": "python",
   "nbconvert_exporter": "python",
   "pygments_lexer": "ipython3",
   "version": "3.9.7"
  }
 },
 "nbformat": 4,
 "nbformat_minor": 5
}
