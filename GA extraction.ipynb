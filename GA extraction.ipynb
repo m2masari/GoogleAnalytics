{
 "cells": [
  {
   "cell_type": "code",
   "execution_count": null,
   "id": "8875ca06",
   "metadata": {},
   "outputs": [],
   "source": [
    "from googleapiclient.discovery import build\n",
    "from oauth2client.service_account import ServiceAccountCredentials\n",
    "import pandas as pd"
   ]
  },
  {
   "cell_type": "code",
   "execution_count": null,
   "id": "5f355c5a",
   "metadata": {},
   "outputs": [],
   "source": [
    "KEY_FILE_LOCATION = \"config/client_secrets.json\"\n",
    "SCOPES = [\"https://www.googleapis.com/auth/analytics.readonly\"]\n",
    "\n",
    "startDate ='2023-01-01'\n",
    "endDate='2023-05-31'\n",
    "dimensions = ['ga:year','ga:month','ga:sourceMedium']\n",
    "metrics = ['ga:users', 'ga:newUsers','ga:sessions','ga:bounceRate','ga:pageviewsPerSession','ga:avgSessionDuration','ga:transactionsPerSession','ga:transactions','ga:transactionRevenue']\n",
    "\n"
   ]
  },
  {
   "cell_type": "code",
   "execution_count": null,
   "id": "fbf11707",
   "metadata": {},
   "outputs": [],
   "source": [
    "def initialize_analyticsreporting():\n",
    "    credentials = ServiceAccountCredentials.from_json_keyfile_name(KEY_FILE_LOCATION, SCOPES)\n",
    "    analytics = build(\"analyticsreporting\", \"v4\", credentials=credentials)\n",
    "\n",
    "    return analytics\n",
    "\n",
    "\n",
    "Analytics = initialize_analyticsreporting()"
   ]
  },
  {
   "cell_type": "code",
   "execution_count": null,
   "id": "1b6cd6b2",
   "metadata": {},
   "outputs": [],
   "source": [
    "def request(pageToken='undefined'):\n",
    "    response = Analytics.reports().batchGet(\n",
    "        # TODO: Validate values and prevent false query\n",
    "        body={\n",
    "            \"reportRequests\": [\n",
    "                {\n",
    "                    \"viewId\": '178838015',\n",
    "                    \"dateRanges\": {'startDate': startDate, 'endDate': endDate},\n",
    "                    \"metrics\": [{'expression': expression} for expression in metrics],\n",
    "                    \"dimensions\": [{'name': name} for name in dimensions],\n",
    "                    \"pageSize\": 100000,\n",
    "                    \"pageToken\": pageToken\n",
    "                }]\n",
    "        }\n",
    "    ).execute()\n",
    "    return response"
   ]
  },
  {
   "cell_type": "code",
   "execution_count": null,
   "id": "c61ee173",
   "metadata": {},
   "outputs": [],
   "source": [
    "def manipulate(response):\n",
    "    for report in response.get('reports', []):\n",
    "        column_h = report.get('columnHeader', {})\n",
    "        dimension_h = column_h.get('dimensions', [])\n",
    "        metric_h = [i.get('name', {}) for i in column_h.get('metricHeader', {}).get('metricHeaderEntries', [])]\n",
    "        final_rows = []\n",
    "\n",
    "        for row in report.get('data', {}).get('rows', []):\n",
    "            dimensions = row.get('dimensions', [])\n",
    "            metrics = row.get('metrics', [])[0].get('values', {})\n",
    "            row_obj = {}\n",
    "\n",
    "            for header, dimension in zip(dimension_h, dimensions):\n",
    "                row_obj[header] = dimension\n",
    "\n",
    "            for metric_headers, metric in zip(metric_h, metrics):\n",
    "                row_obj[metric_headers] = metric\n",
    "\n",
    "            final_rows.append(row_obj)\n",
    "\n",
    "    df = pd.DataFrame(final_rows)\n",
    "    return df"
   ]
  },
  {
   "cell_type": "code",
   "execution_count": null,
   "id": "1a23ee2b",
   "metadata": {},
   "outputs": [],
   "source": [
    "def next_records():\n",
    "    records = []\n",
    "    response = request()\n",
    "    nextPageToken = response.get(\"reports\")[0].get('nextPageToken', None)\n",
    "    df = manipulate(response)\n",
    "    records.append(df)\n",
    "    while nextPageToken != None:\n",
    "        response = request(nextPageToken)\n",
    "        df = manipulate(response)\n",
    "        records.append(df)\n",
    "        nextPageToken = response.get(\"reports\")[0].get('nextPageToken', None)\n",
    "    df = pd.concat(records).reset_index(drop=True)\n",
    "    df.columns = df.columns.str.replace(r'ga:', '')\n",
    "    return df"
   ]
  },
  {
   "cell_type": "code",
   "execution_count": null,
   "id": "0b7f9336",
   "metadata": {},
   "outputs": [],
   "source": [
    "\n",
    "data=next_records()"
   ]
  }
 ],
 "metadata": {
  "kernelspec": {
   "display_name": "Python 3 (ipykernel)",
   "language": "python",
   "name": "python3"
  },
  "language_info": {
   "codemirror_mode": {
    "name": "ipython",
    "version": 3
   },
   "file_extension": ".py",
   "mimetype": "text/x-python",
   "name": "python",
   "nbconvert_exporter": "python",
   "pygments_lexer": "ipython3",
   "version": "3.9.7"
  }
 },
 "nbformat": 4,
 "nbformat_minor": 5
}
