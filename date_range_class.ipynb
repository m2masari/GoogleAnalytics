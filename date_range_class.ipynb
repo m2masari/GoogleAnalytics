{
 "cells": [
  {
   "cell_type": "code",
   "execution_count": null,
   "id": "d4a6b965",
   "metadata": {},
   "outputs": [],
   "source": [
    "import datetime\n",
    "\n",
    "class daterange:\n",
    " def __init__(self):\n",
    "        self.start_date = datetime.date(2020, 1, 1)\n",
    "        self.end_date = datetime.date(2023, 5, 31)\n",
    "        #self.end_date = datetime.date.today()\n",
    " \n",
    " def date_range(self,start_date):\n",
    "    last_day_of_month = datetime.date(self.start_date.year, self.start_date.month, 1) + datetime.timedelta(days=32)  \n",
    "    return [{\"startDate\": self.start_date.strftime(\"%Y-%m-%d\"),\n",
    "             \"endDate\": (last_day_of_month - datetime.timedelta(days=last_day_of_month.day)).strftime(\"%Y-%m-%d\")}]\n",
    " def datelist(self):    \n",
    "  date_list = []\n",
    "  while self.start_date<self.end_date:\n",
    "     date_list.append(self.date_range(self.start_date))\n",
    "     last_day_of_month = datetime.date(self.start_date.year, self.start_date.month, 1) + datetime.timedelta(days=32)\n",
    "     end_date_of_month = last_day_of_month - datetime.timedelta(days=last_day_of_month.day)\n",
    "     self.start_date = end_date_of_month + datetime.timedelta(days=1)\n",
    "  return date_list "
   ]
  }
 ],
 "metadata": {
  "kernelspec": {
   "display_name": "Python 3 (ipykernel)",
   "language": "python",
   "name": "python3"
  },
  "language_info": {
   "codemirror_mode": {
    "name": "ipython",
    "version": 3
   },
   "file_extension": ".py",
   "mimetype": "text/x-python",
   "name": "python",
   "nbconvert_exporter": "python",
   "pygments_lexer": "ipython3",
   "version": "3.9.7"
  }
 },
 "nbformat": 4,
 "nbformat_minor": 5
}
