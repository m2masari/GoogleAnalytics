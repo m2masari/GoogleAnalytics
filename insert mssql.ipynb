{
 "cells": [
  {
   "cell_type": "code",
   "execution_count": null,
   "id": "e7d293d6",
   "metadata": {},
   "outputs": [],
   "source": [
    "from googleapiclient.discovery import build\n",
    "from oauth2client.service_account import ServiceAccountCredentials\n",
    "import azure.functions as func\n",
    "import pandas as pd\n",
    "from azure.identity import DefaultAzureCredential\n",
    "from azure.keyvault.secrets import SecretClient\n",
    "import json\n",
    "import mysql.connector\n",
    "import requests\n",
    "from mysql.connector import errorcode\n",
    "import ssl\n",
    "import pymysql\n",
    "import datetime"
   ]
  },
  {
   "cell_type": "code",
   "execution_count": null,
   "id": "78bb4e85",
   "metadata": {},
   "outputs": [],
   "source": [
    "KEY_FILE_LOCATION = \"client_secrets.json\"\n",
    "SCOPES = [\"https://www.googleapis.com/auth/analytics.readonly\"]\n",
    " \n",
    "startDate ='2020-01-01'\n",
    "endDate='2023-05-31'\n",
    "dimensions = ['ga:year','ga:month','ga:mobileDeviceInfo']\n",
    "metrics = ['ga:users', 'ga:newUsers','ga:sessions','ga:sessionsPerUser','ga:pageviews','ga:pageviewsPerSession','ga:avgSessionDuration','ga:bounceRate']"
   ]
  },
  {
   "cell_type": "code",
   "execution_count": null,
   "id": "7a187d89",
   "metadata": {},
   "outputs": [],
   "source": [
    "def initialize_analyticsreporting():\n",
    "    credentials = ServiceAccountCredentials.from_json_keyfile_name(KEY_FILE_LOCATION, SCOPES)\n",
    "    analytics = build(\"analyticsreporting\", \"v4\", credentials=credentials)\n",
    "\n",
    "    return analytics\n",
    "\n",
    "\n",
    "Analytics = initialize_analyticsreporting()\n",
    " \n",
    "def request(pageToken ='undefined'):\n",
    "    response = Analytics.reports().batchGet(\n",
    "        # TODO: Validate values and prevent false query\n",
    "        body={\n",
    "            \"reportRequests\": [\n",
    "                {\n",
    "                    \"viewId\": '178838015',\n",
    "                    \"dateRanges\": {'startDate': startDate, 'endDate': endDate},\n",
    "                    \"metrics\": [{'expression': expression} for expression in metrics],\n",
    "                    \"dimensions\": [{'name': name} for name in dimensions],\n",
    "                     \"pageSize\": 100000,\n",
    "                    \"pageToken\": pageToken\n",
    "            }]\n",
    "        }\n",
    "    ).execute()\n",
    "    return response"
   ]
  },
  {
   "cell_type": "code",
   "execution_count": null,
   "id": "fc87f0ea",
   "metadata": {},
   "outputs": [],
   "source": [
    "from ga import manipulate (you can import below function from any python code like ga.py)"
   ]
  },
  {
   "cell_type": "code",
   "execution_count": null,
   "id": "9542ab17",
   "metadata": {},
   "outputs": [],
   "source": [
    "def manipulate(response):\n",
    "    for report in response.get('reports', []):\n",
    "        column_h = report.get('columnHeader', {})\n",
    "        dimension_h = column_h.get('dimensions', [])\n",
    "        metric_h = [i.get('name', {}) for i in column_h.get('metricHeader', {}).get('metricHeaderEntries', [])]\n",
    "        final_rows = []\n",
    "\n",
    "        for row in report.get('data', {}).get('rows', []):\n",
    "            dimensions = row.get('dimensions', [])\n",
    "            metrics = row.get('metrics', [])[0].get('values', {})\n",
    "            row_obj = {}\n",
    "\n",
    "            for header, dimension in zip(dimension_h, dimensions):\n",
    "                row_obj[header] = dimension\n",
    "\n",
    "            for metric_headers, metric in zip(metric_h, metrics):\n",
    "                row_obj[metric_headers] = metric\n",
    "\n",
    "            final_rows.append(row_obj)\n",
    "\n",
    "    df = pd.DataFrame(final_rows)\n",
    "    return df\n"
   ]
  },
  {
   "cell_type": "code",
   "execution_count": null,
   "id": "75d0c6df",
   "metadata": {},
   "outputs": [],
   "source": [
    "def next_records():\n",
    "  records =[]\n",
    "  response= request()\n",
    "  nextPageToken = response.get(\"reports\")[0].get('nextPageToken', None)\n",
    "  df = manipulate(response)\n",
    "  records.append(df)\n",
    "  while nextPageToken != None:\n",
    "    response = request(nextPageToken)\n",
    "    df = manipulate(response)\n",
    "    records.append(df)\n",
    "    nextPageToken = response.get(\"reports\")[0].get('nextPageToken', None)\n",
    "  df = pd.concat(records).reset_index(drop=True)\n",
    "  df.columns = df.columns.str.replace(r'ga:', '')\n",
    "  return df\n",
    "\n",
    "ssl_context = ssl.SSLContext(ssl.PROTOCOL_TLSv1_2)\n",
    " \n",
    "config={ \n",
    "'host':'host',\n",
    "'database':'databse',\n",
    "'user':'user',\n",
    "'password':'password',\n",
    "'ssl':ssl_context\n",
    "} "
   ]
  },
  {
   "cell_type": "code",
   "execution_count": null,
   "id": "ef5b0c78",
   "metadata": {},
   "outputs": [],
   "source": [
    "def azure_sql_insert(df):\n",
    "    try:\n",
    "        conn = pymysql.connect(**config)\n",
    "        print(\"Connection established\")\n",
    "        cursor = conn.cursor()\n",
    "        insert_query = \"INSERT INTO tablenames(year,month,interestOtherCategory,users,newUsers,sessions,sessionsPerUser,pageviews,pageviewsPerSession,avgSessionDuration,bounceRate) VALUES (%s,%s,%s,%s,%s,%s,%s,%s,%s,%s,%s)\"\n",
    "        data = [tuple(row) for row in df.to_numpy()]\n",
    "        cursor.executemany(insert_query, data)\n",
    "        conn.commit()\n",
    "        cursor.close()\n",
    "        conn.close()\n",
    "        print(\"Data inserted successfully\")\n",
    "        return f\"Connection established\"\n",
    "\n",
    "    except mysql.connector.Error as err:\n",
    "        if err.errno == errorcode.ER_ACCESS_DENIED_ERROR:\n",
    "            error_message = \"Something is wrong with the user name or password\"\n",
    "        elif err.errno == errorcode.ER_BAD_DB_ERROR:\n",
    "            error_message = \"Database does not exist\"\n",
    "        else:\n",
    "            error_message = str(err)\n",
    "        print(error_message)\n",
    "        return error_message"
   ]
  },
  {
   "cell_type": "code",
   "execution_count": null,
   "id": "a193cb63",
   "metadata": {},
   "outputs": [],
   "source": [
    "data=next_records()\n",
    "azure_sql_insert(data)"
   ]
  }
 ],
 "metadata": {
  "kernelspec": {
   "display_name": "Python 3 (ipykernel)",
   "language": "python",
   "name": "python3"
  },
  "language_info": {
   "codemirror_mode": {
    "name": "ipython",
    "version": 3
   },
   "file_extension": ".py",
   "mimetype": "text/x-python",
   "name": "python",
   "nbconvert_exporter": "python",
   "pygments_lexer": "ipython3",
   "version": "3.9.7"
  }
 },
 "nbformat": 4,
 "nbformat_minor": 5
}
